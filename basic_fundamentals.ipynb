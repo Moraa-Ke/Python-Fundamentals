{
 "cells": [
  {
   "cell_type": "markdown",
   "metadata": {},
   "source": [
    "Python Fundamentals: Data Structures, Functions, and Comprehension Techniques"
   ]
  },
  {
   "cell_type": "code",
   "execution_count": 1,
   "metadata": {},
   "outputs": [
    {
     "name": "stdout",
     "output_type": "stream",
     "text": [
      "\"Noon\" is a palindrome.\n"
     ]
    }
   ],
   "source": [
    "# checking whether a string is a palindrome or not using a stack\n",
    "# A stack is a Last-In-First-Out (LIFO) data structure. In this case we use a reversed string.\n",
    "\n",
    "def is_palindrome_stack(word):\n",
    "    # Normalize the string: remove spaces and convert to lowercase this is to make the word case insensitive\n",
    "    word = word.replace(\" \", \"\").lower()\n",
    "\n",
    "    # Create an empty stack to store into\n",
    "    stack = []\n",
    "\n",
    "    # Push all characters onto the stack\n",
    "    for char in word:\n",
    "        stack.append(char)\n",
    "\n",
    "    # Pop all characters from the stack to form the reversed string\n",
    "    reversed_word = \"\"\n",
    "    while stack:\n",
    "        reversed_word += stack.pop()\n",
    "\n",
    "    # Check if the original string is equal to the reversed string\n",
    "    return word == reversed_word\n",
    "\n",
    "# Example \n",
    "example = \"Noon\"\n",
    "if is_palindrome_stack(example):\n",
    "    print(f'\"{example}\" is a palindrome.')\n",
    "else:\n",
    "    print(f'\"{example}\" is not a palindrome.')\n"
   ]
  },
  {
   "cell_type": "code",
   "execution_count": 2,
   "metadata": {},
   "outputs": [
    {
     "name": "stdout",
     "output_type": "stream",
     "text": [
      "[0, 1, 4, 9, 16, 25, 36, 49, 64, 81]\n",
      "[0, 2, 4, 6, 8]\n",
      "[1, 2, 3, 3, 4, 5, 2, 6, 7, 8]\n"
     ]
    }
   ],
   "source": [
    "# List Comprehension\n",
    "# This offers a concise way to create a new list based on the values of an existing list\n",
    "\n",
    "#Example 1 : creating Squares of Numbers from 0 to 9\n",
    "squares = [x * x for x in range(10)]\n",
    "print(squares)\n",
    "\n",
    "\n",
    "# Example 2 : Filtering even numbers\n",
    "evens = [x for x in range(10) if x % 2 == 0]\n",
    "print(evens)\n",
    "\n",
    "\n",
    "# Example 3 : Combining lists into one list\n",
    "list_of_lists = [[1, 2, 3], [3, 4, 5], [2, 6, 7, 8]]\n",
    "combined_list = [num for sublist in list_of_lists for num in sublist]\n",
    "print(combined_list)\n",
    "\n",
    "\n"
   ]
  },
  {
   "cell_type": "code",
   "execution_count": 3,
   "metadata": {},
   "outputs": [
    {
     "name": "stdout",
     "output_type": "stream",
     "text": [
      "[1, 'hello', 3.14, [5, 6, 7]]\n",
      "{'name': 'Alice', 'age': 30, 'hobbies': ['reading', 'hiking']}\n",
      "(10, 'world', 2.71)\n"
     ]
    }
   ],
   "source": [
    "# Compound Data Type : These are data types often refered to as containers that can hold multiple values\n",
    "\n",
    "# A list is an ordered collection\n",
    "# List1 containing an integer, a string, a float and a sublist of integers\n",
    "# Box brackets are used for a list\n",
    "list1 = [1, \"hello\", 3.14, [5, 6, 7]]\n",
    "print(list1)\n",
    "\n",
    "\n",
    "# A dictionary is an unordered collection of key-value pairs\n",
    "# a dictionary often contains a key and its values. The below dictionaries keys are; name,age and hobbies\n",
    "# We use ghe cully brackets {} for a dictionary\n",
    "dict1 = {\"name\": \"Alice\", \"age\": 30, \"hobbies\": [\"reading\", \"hiking\"]}\n",
    "print(dict1)\n",
    "\n",
    "\n",
    "# A tuple is an ordered, immutable collection of elements. This means it can not be changed.\n",
    "# the normal brackets represent a tuple()\n",
    "tuple1 = (10, \"world\", 2.71)\n",
    "print(tuple1)\n"
   ]
  },
  {
   "cell_type": "code",
   "execution_count": 4,
   "metadata": {},
   "outputs": [
    {
     "name": "stdout",
     "output_type": "stream",
     "text": [
      "['yo', 'ou', 'ua', 'ar', 're', 'em', 'my', 'yl', 'lo', 'ov', 've']\n"
     ]
    }
   ],
   "source": [
    "# Returning List of Bigrams from a String\n",
    "# A bigram is a sequence of two adjacent elements from a string.\n",
    "\n",
    "def get_bigrams(sentence):\n",
    "    # Remove spaces and convert to lowercase for uniformity\n",
    "    sentence = sentence.replace(\" \", \"\").lower()\n",
    "    \n",
    "    # Generate list of bigrams\n",
    "    bigrams = [sentence[i:i + 2] for i in range(len(sentence) - 1)]\n",
    "    return bigrams\n",
    "\n",
    "# Example \n",
    "print(get_bigrams(\"you are my love\"))\n",
    "\n"
   ]
  },
  {
   "cell_type": "code",
   "execution_count": 5,
   "metadata": {},
   "outputs": [
    {
     "name": "stdout",
     "output_type": "stream",
     "text": [
      "C\n"
     ]
    }
   ],
   "source": [
    "\n",
    "\n",
    "# Find the Closest Key in a Dictionary\n",
    "# This finds the key with the input value closest to the beginning of the list.\n",
    "\n",
    "def closest_key(dictionary, input_value):\n",
    "    # Initialize with None and a large number for comparison\n",
    "    closest_key = None\n",
    "    min_index = float('inf')\n",
    "\n",
    "    # Iterating through dictionary items\n",
    "    for key, value_list in dictionary.items():\n",
    "        if input_value in value_list:\n",
    "            index = value_list.index(input_value)  # Find the index of input_value\n",
    "            # Update if a closer key is found\n",
    "            if index < min_index:\n",
    "                min_index = index\n",
    "                closest_key = key\n",
    "\n",
    "    return closest_key\n",
    "\n",
    "# Example \n",
    "letter_dict = {'A': ['x', 'y', 'z'], 'B': ['a', 'b', 'c'], 'C': ['y', 'c', 'a']}\n",
    "print(closest_key(letter_dict, 'y'))\n",
    "\n",
    "\n",
    "#I hope this is helpful\n",
    "\n"
   ]
  }
 ],
 "metadata": {
  "kernelspec": {
   "display_name": "Python 3",
   "language": "python",
   "name": "python3"
  },
  "language_info": {
   "codemirror_mode": {
    "name": "ipython",
    "version": 3
   },
   "file_extension": ".py",
   "mimetype": "text/x-python",
   "name": "python",
   "nbconvert_exporter": "python",
   "pygments_lexer": "ipython3",
   "version": "3.12.0"
  }
 },
 "nbformat": 4,
 "nbformat_minor": 2
}
